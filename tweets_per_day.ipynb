{
 "cells": [
  {
   "cell_type": "code",
   "execution_count": 1,
   "metadata": {},
   "outputs": [],
   "source": [
    "import json\n",
    "import os,glob"
   ]
  },
  {
   "cell_type": "code",
   "execution_count": 2,
   "metadata": {},
   "outputs": [],
   "source": [
    "folder_path = 'D:\\\\COVID-19-TweetIDs\\\\2020-01\\\\New folder\\\\22'"
   ]
  },
  {
   "cell_type": "code",
   "execution_count": 52,
   "metadata": {},
   "outputs": [
    {
     "name": "stdout",
     "output_type": "stream",
     "text": [
      "D:\\COVID-19-TweetIDs\\2020-01\\New folder\\22\\coronavirus-tweet-id-2020-01-21-22.jsonl\n",
      "53\n",
      "D:\\COVID-19-TweetIDs\\2020-01\\New folder\\22\\coronavirus-tweet-id-2020-01-21-23.jsonl\n",
      "127\n",
      "D:\\COVID-19-TweetIDs\\2020-01\\New folder\\22\\coronavirus-tweet-id-2020-01-22-00.jsonl\n",
      "103\n",
      "D:\\COVID-19-TweetIDs\\2020-01\\New folder\\22\\coronavirus-tweet-id-2020-01-22-01.jsonl\n",
      "99\n",
      "D:\\COVID-19-TweetIDs\\2020-01\\New folder\\22\\coronavirus-tweet-id-2020-01-22-02.jsonl\n",
      "178\n",
      "D:\\COVID-19-TweetIDs\\2020-01\\New folder\\22\\coronavirus-tweet-id-2020-01-22-06.jsonl\n",
      "140\n"
     ]
    }
   ],
   "source": [
    "total_per_day = []\n",
    "date = []\n",
    "for filename in glob.glob(os.path.join(folder_path, '*.jsonl')):\n",
    "    fhand = open(filename, 'r',encoding=\"utf8\")\n",
    "    text = fhand.readlines()\n",
    "    print (filename)\n",
    "    print(len(text))\n",
    "    date.append(filename[70:74])"
   ]
  },
  {
   "cell_type": "code",
   "execution_count": 53,
   "metadata": {},
   "outputs": [
    {
     "name": "stdout",
     "output_type": "stream",
     "text": [
      "['1-21', '1-22']\n"
     ]
    }
   ],
   "source": [
    "date = list( dict.fromkeys(date) )\n",
    "print(date)"
   ]
  },
  {
   "cell_type": "code",
   "execution_count": 54,
   "metadata": {},
   "outputs": [],
   "source": [
    "for a in range(len(date)):\n",
    "    total= 0\n",
    "    for filename in glob.glob(os.path.join(folder_path, '*.jsonl')):\n",
    "        fhand = open(filename, 'r',encoding=\"utf8\")\n",
    "        text = fhand.readlines()\n",
    "        if date[a] in filename:\n",
    "            total += len(text)\n",
    "    total_per_day.append(total)\n"
   ]
  },
  {
   "cell_type": "code",
   "execution_count": 55,
   "metadata": {},
   "outputs": [
    {
     "name": "stdout",
     "output_type": "stream",
     "text": [
      "[180, 573]\n"
     ]
    }
   ],
   "source": [
    "print(total_per_day)"
   ]
  },
  {
   "cell_type": "code",
   "execution_count": 56,
   "metadata": {},
   "outputs": [],
   "source": [
    "tweets_per_day = {date[i]: total_per_day[i] for i in range(len(date))} "
   ]
  },
  {
   "cell_type": "code",
   "execution_count": 57,
   "metadata": {},
   "outputs": [
    {
     "name": "stdout",
     "output_type": "stream",
     "text": [
      "{'1-21': 180, '1-22': 573}\n"
     ]
    }
   ],
   "source": [
    "print(tweets_per_day)"
   ]
  },
  {
   "cell_type": "code",
   "execution_count": 62,
   "metadata": {},
   "outputs": [
    {
     "name": "stdout",
     "output_type": "stream",
     "text": [
      "香港 香港\n"
     ]
    }
   ],
   "source": [
    "for filename in glob.glob(os.path.join(folder_path, '*.jsonl')):\n",
    "    fhand = open(filename, 'r',encoding=\"utf8\")\n",
    "    for line in fhand:\n",
    "        tweet = json.loads(line)\n",
    "        try:\n",
    "            geo = tweet['coordinates']\n",
    "            if geo != None:\n",
    "                print(geo)\n",
    "            print(tweet['place']['name'],tweet['place']['country'])\n",
    "        except:\n",
    "            continue"
   ]
  },
  {
   "cell_type": "code",
   "execution_count": null,
   "metadata": {},
   "outputs": [],
   "source": []
  }
 ],
 "metadata": {
  "kernelspec": {
   "display_name": "Python 3",
   "language": "python",
   "name": "python3"
  },
  "language_info": {
   "codemirror_mode": {
    "name": "ipython",
    "version": 3
   },
   "file_extension": ".py",
   "mimetype": "text/x-python",
   "name": "python",
   "nbconvert_exporter": "python",
   "pygments_lexer": "ipython3",
   "version": "3.7.6"
  }
 },
 "nbformat": 4,
 "nbformat_minor": 4
}
